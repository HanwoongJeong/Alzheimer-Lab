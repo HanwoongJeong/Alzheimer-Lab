{
 "cells": [
  {
   "cell_type": "code",
   "execution_count": 2,
   "metadata": {
    "colab": {
     "autoexec": {
      "startup": false,
      "wait_interval": 0
     }
    },
    "colab_type": "code",
    "id": "MwGqhokdBmRw"
   },
   "outputs": [],
   "source": [
    "import os"
   ]
  },
  {
   "cell_type": "code",
   "execution_count": 3,
   "metadata": {
    "colab": {
     "autoexec": {
      "startup": false,
      "wait_interval": 0
     }
    },
    "colab_type": "code",
    "id": "HiyBG2KrBo6f"
   },
   "outputs": [],
   "source": [
    "import zipfile"
   ]
  },
  {
   "cell_type": "code",
   "execution_count": 4,
   "metadata": {
    "colab": {
     "autoexec": {
      "startup": false,
      "wait_interval": 0
     },
     "base_uri": "https://localhost:8080/",
     "height": 163
    },
    "colab_type": "code",
    "executionInfo": {
     "elapsed": 235,
     "status": "error",
     "timestamp": 1530166358640,
     "user": {
      "displayName": "gerard Kim",
      "photoUrl": "//lh5.googleusercontent.com/-iuADNaOLjbU/AAAAAAAAAAI/AAAAAAAAETg/RVRmC6A1XrE/s50-c-k-no/photo.jpg",
      "userId": "105066283437013869982"
     },
     "user_tz": 240
    },
    "id": "ItuCEkCKffrB",
    "outputId": "8e0a7e66-da92-463a-e02a-b0c96a2b4cb4"
   },
   "outputs": [
    {
     "data": {
      "text/plain": [
       "['1gr', '2gr', '3gr']"
      ]
     },
     "execution_count": 4,
     "metadata": {},
     "output_type": "execute_result"
    }
   ],
   "source": [
    "os.listdir('./train')"
   ]
  },
  {
   "cell_type": "code",
   "execution_count": 5,
   "metadata": {
    "colab": {
     "autoexec": {
      "startup": false,
      "wait_interval": 0
     }
    },
    "colab_type": "code",
    "id": "lcC8cD0pChx4"
   },
   "outputs": [],
   "source": [
    "import matplotlib.pyplot as plt\n",
    "import PIL\n",
    "import tensorflow as tf\n",
    "import numpy as np\n",
    "import os"
   ]
  },
  {
   "cell_type": "code",
   "execution_count": 6,
   "metadata": {
    "colab": {
     "autoexec": {
      "startup": false,
      "wait_interval": 0
     }
    },
    "colab_type": "code",
    "id": "T1Bn_d43CnXJ"
   },
   "outputs": [
    {
     "name": "stderr",
     "output_type": "stream",
     "text": [
      "Using TensorFlow backend.\n"
     ]
    }
   ],
   "source": [
    "from keras.models import Model, Sequential\n",
    "from keras.layers import Dense, Flatten, Dropout, Activation, GlobalAveragePooling2D\n",
    "from keras.applications.resnet50 import ResNet50\n",
    "from keras.applications.vgg16 import preprocess_input, decode_predictions, VGG16\n",
    "from keras.applications.densenet import DenseNet121\n",
    "from keras.preprocessing.image import ImageDataGenerator\n",
    "from keras.optimizers import Adam, RMSprop\n",
    "from keras import backend as K\n",
    "from keras.models import load_model\n",
    "from keras.layers.normalization import BatchNormalization\n",
    "from keras.callbacks import EarlyStopping"
   ]
  },
  {
   "cell_type": "code",
   "execution_count": 7,
   "metadata": {
    "colab": {
     "autoexec": {
      "startup": false,
      "wait_interval": 0
     },
     "base_uri": "https://localhost:8080/",
     "height": 105
    },
    "colab_type": "code",
    "executionInfo": {
     "elapsed": 213,
     "status": "ok",
     "timestamp": 1530166740037,
     "user": {
      "displayName": "gerard Kim",
      "photoUrl": "//lh5.googleusercontent.com/-iuADNaOLjbU/AAAAAAAAAAI/AAAAAAAAETg/RVRmC6A1XrE/s50-c-k-no/photo.jpg",
      "userId": "105066283437013869982"
     },
     "user_tz": 240
    },
    "id": "7BJTAPCsHGXX",
    "outputId": "431a58a6-8a4b-4f15-bb06-c439bf223eab"
   },
   "outputs": [
    {
     "name": "stderr",
     "output_type": "stream",
     "text": [
      "c:\\users\\paperspace\\anaconda3\\envs\\tensorflow-gpu\\lib\\site-packages\\sklearn\\cross_validation.py:41: DeprecationWarning: This module was deprecated in version 0.18 in favor of the model_selection module into which all the refactored classes and functions are moved. Also note that the interface of the new CV iterators are different from that of this module. This module will be removed in 0.20.\n",
      "  \"This module will be removed in 0.20.\", DeprecationWarning)\n",
      "c:\\users\\paperspace\\anaconda3\\envs\\tensorflow-gpu\\lib\\site-packages\\sklearn\\grid_search.py:42: DeprecationWarning: This module was deprecated in version 0.18 in favor of the model_selection module into which all the refactored classes and functions are moved. This module will be removed in 0.20.\n",
      "  DeprecationWarning)\n"
     ]
    }
   ],
   "source": [
    "from sklearn.decomposition import PCA\n",
    "from sklearn import svm\n",
    "from sklearn.metrics import accuracy_score, f1_score, precision_score, recall_score, classification_report, confusion_matrix\n",
    "from sklearn.grid_search import GridSearchCV\n",
    "from sklearn.utils.class_weight import compute_class_weight"
   ]
  },
  {
   "cell_type": "code",
   "execution_count": 8,
   "metadata": {
    "colab": {
     "autoexec": {
      "startup": false,
      "wait_interval": 0
     }
    },
    "colab_type": "code",
    "id": "YT5hmPmFCr5R"
   },
   "outputs": [],
   "source": [
    "model = VGG16(include_top=False, weights='imagenet', input_shape=(224,224,3))"
   ]
  },
  {
   "cell_type": "code",
   "execution_count": 9,
   "metadata": {
    "colab": {
     "autoexec": {
      "startup": false,
      "wait_interval": 0
     },
     "base_uri": "https://localhost:8080/",
     "height": 34
    },
    "colab_type": "code",
    "executionInfo": {
     "elapsed": 221,
     "status": "ok",
     "timestamp": 1530166745049,
     "user": {
      "displayName": "gerard Kim",
      "photoUrl": "//lh5.googleusercontent.com/-iuADNaOLjbU/AAAAAAAAAAI/AAAAAAAAETg/RVRmC6A1XrE/s50-c-k-no/photo.jpg",
      "userId": "105066283437013869982"
     },
     "user_tz": 240
    },
    "id": "HSs4BdNwCwuY",
    "outputId": "9614be2c-817e-4f49-8466-39dac961ac6b"
   },
   "outputs": [
    {
     "data": {
      "text/plain": [
       "(224, 224)"
      ]
     },
     "execution_count": 9,
     "metadata": {},
     "output_type": "execute_result"
    }
   ],
   "source": [
    "input_shape=model.layers[0].output_shape[1:3]\n",
    "input_shape"
   ]
  },
  {
   "cell_type": "code",
   "execution_count": 10,
   "metadata": {
    "colab": {
     "autoexec": {
      "startup": false,
      "wait_interval": 0
     }
    },
    "colab_type": "code",
    "id": "oV1aL4HEC5cw"
   },
   "outputs": [],
   "source": [
    "datagen_train = ImageDataGenerator(\n",
    "      rescale=1./128)"
   ]
  },
  {
   "cell_type": "code",
   "execution_count": 11,
   "metadata": {
    "colab": {
     "autoexec": {
      "startup": false,
      "wait_interval": 0
     }
    },
    "colab_type": "code",
    "id": "oHTjzCFeDB7g"
   },
   "outputs": [],
   "source": [
    "datagen_test = ImageDataGenerator(rescale=1./128)"
   ]
  },
  {
   "cell_type": "code",
   "execution_count": 18,
   "metadata": {
    "colab": {
     "autoexec": {
      "startup": false,
      "wait_interval": 0
     }
    },
    "colab_type": "code",
    "id": "mKRPvpenDDMY"
   },
   "outputs": [],
   "source": [
    "epochs=2\n",
    "batch_size = 100\n",
    "steps_per_epoch_train=22500//100\n",
    "steps_per_epoch_val=7500//10\n"
   ]
  },
  {
   "cell_type": "code",
   "execution_count": 13,
   "metadata": {
    "colab": {
     "autoexec": {
      "startup": false,
      "wait_interval": 0
     },
     "base_uri": "https://localhost:8080/",
     "height": 34
    },
    "colab_type": "code",
    "executionInfo": {
     "elapsed": 1093,
     "status": "ok",
     "timestamp": 1530166749680,
     "user": {
      "displayName": "gerard Kim",
      "photoUrl": "//lh5.googleusercontent.com/-iuADNaOLjbU/AAAAAAAAAAI/AAAAAAAAETg/RVRmC6A1XrE/s50-c-k-no/photo.jpg",
      "userId": "105066283437013869982"
     },
     "user_tz": 240
    },
    "id": "TUAKn_b1DEYY",
    "outputId": "dd4f13eb-e2f2-41be-deba-8eaa15d7b0d6"
   },
   "outputs": [
    {
     "name": "stdout",
     "output_type": "stream",
     "text": [
      "Found 22500 images belonging to 3 classes.\n"
     ]
    }
   ],
   "source": [
    "generator_train.reset()\n",
    "generator_train = datagen_train.flow_from_directory(directory='./train',\n",
    "                               \n",
    "                                                    target_size=(224,224),\n",
    "                                                    batch_size=100,\n",
    "                                                    class_mode='categorical',shuffle=False)"
   ]
  },
  {
   "cell_type": "code",
   "execution_count": 16,
   "metadata": {
    "colab": {
     "autoexec": {
      "startup": false,
      "wait_interval": 0
     },
     "base_uri": "https://localhost:8080/",
     "height": 34
    },
    "colab_type": "code",
    "executionInfo": {
     "elapsed": 325,
     "status": "ok",
     "timestamp": 1530166795349,
     "user": {
      "displayName": "gerard Kim",
      "photoUrl": "//lh5.googleusercontent.com/-iuADNaOLjbU/AAAAAAAAAAI/AAAAAAAAETg/RVRmC6A1XrE/s50-c-k-no/photo.jpg",
      "userId": "105066283437013869982"
     },
     "user_tz": 240
    },
    "id": "GHeujiQ7DJux",
    "outputId": "270ae2ba-3cd4-4b3f-91b8-2b5419744444"
   },
   "outputs": [
    {
     "name": "stdout",
     "output_type": "stream",
     "text": [
      "Found 7500 images belonging to 3 classes.\n"
     ]
    }
   ],
   "source": [
    "generator_test.reset()\n",
    "generator_test = datagen_test.flow_from_directory(directory='./val',\n",
    "                                                  target_size=(224,224),\n",
    "                                                  batch_size=100,\n",
    "                                                  class_mode='categorical',\n",
    "                                                  shuffle=False)"
   ]
  },
  {
   "cell_type": "code",
   "execution_count": 19,
   "metadata": {
    "colab": {
     "autoexec": {
      "startup": false,
      "wait_interval": 0
     },
     "base_uri": "https://localhost:8080/",
     "height": 34
    },
    "colab_type": "code",
    "executionInfo": {
     "elapsed": 235,
     "status": "ok",
     "timestamp": 1530166799191,
     "user": {
      "displayName": "gerard Kim",
      "photoUrl": "//lh5.googleusercontent.com/-iuADNaOLjbU/AAAAAAAAAAI/AAAAAAAAETg/RVRmC6A1XrE/s50-c-k-no/photo.jpg",
      "userId": "105066283437013869982"
     },
     "user_tz": 240
    },
    "id": "jgXSAVO9DUMJ",
    "outputId": "31bc3561-56d6-4aa6-c0bf-297a49d69336"
   },
   "outputs": [
    {
     "data": {
      "text/plain": [
       "75.0"
      ]
     },
     "execution_count": 19,
     "metadata": {},
     "output_type": "execute_result"
    }
   ],
   "source": [
    "steps_test = generator_test.n / batch_size\n",
    "steps_test"
   ]
  },
  {
   "cell_type": "code",
   "execution_count": 20,
   "metadata": {
    "colab": {
     "autoexec": {
      "startup": false,
      "wait_interval": 0
     }
    },
    "colab_type": "code",
    "id": "3rkGWzQ7DWR5"
   },
   "outputs": [],
   "source": [
    "from sklearn.utils.class_weight import compute_class_weight"
   ]
  },
  {
   "cell_type": "code",
   "execution_count": 21,
   "metadata": {
    "colab": {
     "autoexec": {
      "startup": false,
      "wait_interval": 0
     }
    },
    "colab_type": "code",
    "id": "DLFG-sAnDY64"
   },
   "outputs": [],
   "source": [
    "cls_train = generator_train.classes\n"
   ]
  },
  {
   "cell_type": "code",
   "execution_count": 22,
   "metadata": {
    "colab": {
     "autoexec": {
      "startup": false,
      "wait_interval": 0
     }
    },
    "colab_type": "code",
    "id": "1CgHvKUcDeZ4"
   },
   "outputs": [],
   "source": [
    "cls_test = generator_test.classes"
   ]
  },
  {
   "cell_type": "code",
   "execution_count": 23,
   "metadata": {
    "colab": {
     "autoexec": {
      "startup": false,
      "wait_interval": 0
     }
    },
    "colab_type": "code",
    "id": "lXRv7ZdQDf_A"
   },
   "outputs": [],
   "source": [
    "class_weight = compute_class_weight(class_weight='balanced', classes=np.unique(cls_train), y=cls_train)"
   ]
  },
  {
   "cell_type": "code",
   "execution_count": 24,
   "metadata": {
    "colab": {
     "autoexec": {
      "startup": false,
      "wait_interval": 0
     },
     "base_uri": "https://localhost:8080/",
     "height": 34
    },
    "colab_type": "code",
    "executionInfo": {
     "elapsed": 211,
     "status": "ok",
     "timestamp": 1530166808991,
     "user": {
      "displayName": "gerard Kim",
      "photoUrl": "//lh5.googleusercontent.com/-iuADNaOLjbU/AAAAAAAAAAI/AAAAAAAAETg/RVRmC6A1XrE/s50-c-k-no/photo.jpg",
      "userId": "105066283437013869982"
     },
     "user_tz": 240
    },
    "id": "Lw59Ly7hDozw",
    "outputId": "1bf68a57-db61-4c82-e598-52896b31b374"
   },
   "outputs": [
    {
     "data": {
      "text/plain": [
       "array([ 1.,  1.,  1.])"
      ]
     },
     "execution_count": 24,
     "metadata": {},
     "output_type": "execute_result"
    }
   ],
   "source": [
    "class_weight"
   ]
  },
  {
   "cell_type": "code",
   "execution_count": 25,
   "metadata": {
    "colab": {
     "autoexec": {
      "startup": false,
      "wait_interval": 0
     },
     "base_uri": "https://localhost:8080/",
     "height": 782
    },
    "colab_type": "code",
    "executionInfo": {
     "elapsed": 226,
     "status": "ok",
     "timestamp": 1530166809826,
     "user": {
      "displayName": "gerard Kim",
      "photoUrl": "//lh5.googleusercontent.com/-iuADNaOLjbU/AAAAAAAAAAI/AAAAAAAAETg/RVRmC6A1XrE/s50-c-k-no/photo.jpg",
      "userId": "105066283437013869982"
     },
     "user_tz": 240
    },
    "id": "hx34RAW71Hg3",
    "outputId": "656e18ed-24f2-477e-aae8-ccbdb4673cd8"
   },
   "outputs": [
    {
     "name": "stdout",
     "output_type": "stream",
     "text": [
      "_________________________________________________________________\n",
      "Layer (type)                 Output Shape              Param #   \n",
      "=================================================================\n",
      "input_1 (InputLayer)         (None, 224, 224, 3)       0         \n",
      "_________________________________________________________________\n",
      "block1_conv1 (Conv2D)        (None, 224, 224, 64)      1792      \n",
      "_________________________________________________________________\n",
      "block1_conv2 (Conv2D)        (None, 224, 224, 64)      36928     \n",
      "_________________________________________________________________\n",
      "block1_pool (MaxPooling2D)   (None, 112, 112, 64)      0         \n",
      "_________________________________________________________________\n",
      "block2_conv1 (Conv2D)        (None, 112, 112, 128)     73856     \n",
      "_________________________________________________________________\n",
      "block2_conv2 (Conv2D)        (None, 112, 112, 128)     147584    \n",
      "_________________________________________________________________\n",
      "block2_pool (MaxPooling2D)   (None, 56, 56, 128)       0         \n",
      "_________________________________________________________________\n",
      "block3_conv1 (Conv2D)        (None, 56, 56, 256)       295168    \n",
      "_________________________________________________________________\n",
      "block3_conv2 (Conv2D)        (None, 56, 56, 256)       590080    \n",
      "_________________________________________________________________\n",
      "block3_conv3 (Conv2D)        (None, 56, 56, 256)       590080    \n",
      "_________________________________________________________________\n",
      "block3_pool (MaxPooling2D)   (None, 28, 28, 256)       0         \n",
      "_________________________________________________________________\n",
      "block4_conv1 (Conv2D)        (None, 28, 28, 512)       1180160   \n",
      "_________________________________________________________________\n",
      "block4_conv2 (Conv2D)        (None, 28, 28, 512)       2359808   \n",
      "_________________________________________________________________\n",
      "block4_conv3 (Conv2D)        (None, 28, 28, 512)       2359808   \n",
      "_________________________________________________________________\n",
      "block4_pool (MaxPooling2D)   (None, 14, 14, 512)       0         \n",
      "_________________________________________________________________\n",
      "block5_conv1 (Conv2D)        (None, 14, 14, 512)       2359808   \n",
      "_________________________________________________________________\n",
      "block5_conv2 (Conv2D)        (None, 14, 14, 512)       2359808   \n",
      "_________________________________________________________________\n",
      "block5_conv3 (Conv2D)        (None, 14, 14, 512)       2359808   \n",
      "_________________________________________________________________\n",
      "block5_pool (MaxPooling2D)   (None, 7, 7, 512)         0         \n",
      "=================================================================\n",
      "Total params: 14,714,688\n",
      "Trainable params: 14,714,688\n",
      "Non-trainable params: 0\n",
      "_________________________________________________________________\n"
     ]
    }
   ],
   "source": [
    "model.summary()"
   ]
  },
  {
   "cell_type": "code",
   "execution_count": 26,
   "metadata": {
    "colab": {
     "autoexec": {
      "startup": false,
      "wait_interval": 0
     }
    },
    "colab_type": "code",
    "id": "VXOMYztdDsyJ"
   },
   "outputs": [],
   "source": [
    "transfer_layer = model.get_layer('block5_pool')"
   ]
  },
  {
   "cell_type": "code",
   "execution_count": 27,
   "metadata": {
    "colab": {
     "autoexec": {
      "startup": false,
      "wait_interval": 0
     },
     "base_uri": "https://localhost:8080/",
     "height": 34
    },
    "colab_type": "code",
    "executionInfo": {
     "elapsed": 212,
     "status": "ok",
     "timestamp": 1530166816480,
     "user": {
      "displayName": "gerard Kim",
      "photoUrl": "//lh5.googleusercontent.com/-iuADNaOLjbU/AAAAAAAAAAI/AAAAAAAAETg/RVRmC6A1XrE/s50-c-k-no/photo.jpg",
      "userId": "105066283437013869982"
     },
     "user_tz": 240
    },
    "id": "s04MKxj1DyDh",
    "outputId": "737ce45c-28bb-478c-9e10-305da5aa7b33"
   },
   "outputs": [
    {
     "data": {
      "text/plain": [
       "<tf.Tensor 'block5_pool/MaxPool:0' shape=(?, 7, 7, 512) dtype=float32>"
      ]
     },
     "execution_count": 27,
     "metadata": {},
     "output_type": "execute_result"
    }
   ],
   "source": [
    "transfer_layer.output"
   ]
  },
  {
   "cell_type": "code",
   "execution_count": 28,
   "metadata": {
    "colab": {
     "autoexec": {
      "startup": false,
      "wait_interval": 0
     }
    },
    "colab_type": "code",
    "id": "u6s7utMID3FQ"
   },
   "outputs": [],
   "source": [
    "conv_model = Model(inputs=model.input, outputs=transfer_layer.output)"
   ]
  },
  {
   "cell_type": "code",
   "execution_count": 29,
   "metadata": {
    "colab": {
     "autoexec": {
      "startup": false,
      "wait_interval": 0
     },
     "base_uri": "https://localhost:8080/",
     "height": 34
    },
    "colab_type": "code",
    "executionInfo": {
     "elapsed": 239,
     "status": "ok",
     "timestamp": 1530166823366,
     "user": {
      "displayName": "gerard Kim",
      "photoUrl": "//lh5.googleusercontent.com/-iuADNaOLjbU/AAAAAAAAAAI/AAAAAAAAETg/RVRmC6A1XrE/s50-c-k-no/photo.jpg",
      "userId": "105066283437013869982"
     },
     "user_tz": 240
    },
    "id": "6IpmZQKED9ER",
    "outputId": "e7d6666c-0862-424e-ec41-25f91ec9865e"
   },
   "outputs": [
    {
     "data": {
      "text/plain": [
       "<tf.Tensor 'input_1:0' shape=(?, 224, 224, 3) dtype=float32>"
      ]
     },
     "execution_count": 29,
     "metadata": {},
     "output_type": "execute_result"
    }
   ],
   "source": [
    "model.input"
   ]
  },
  {
   "cell_type": "code",
   "execution_count": 30,
   "metadata": {
    "colab": {
     "autoexec": {
      "startup": false,
      "wait_interval": 0
     }
    },
    "colab_type": "code",
    "id": "glhdVFmKD9wR"
   },
   "outputs": [],
   "source": [
    "new_model = Sequential()\n",
    "new_model.add(conv_model)\n",
    "new_model.add(Flatten())\n",
    "new_model.add(Dense(256, activation='relu'))\n",
    "new_model.add(Dropout(0.5))\n",
    "new_model.add(Dense(3, activation='softmax'))"
   ]
  },
  {
   "cell_type": "code",
   "execution_count": 31,
   "metadata": {
    "colab": {
     "autoexec": {
      "startup": false,
      "wait_interval": 0
     }
    },
    "colab_type": "code",
    "id": "wGHrsjyXEcKh"
   },
   "outputs": [],
   "source": [
    "def print_layer_trainable():\n",
    "  for layer in conv_model.layers:\n",
    "    print(\"{0}: {1}\".format(layer.trainable, layer.name))"
   ]
  },
  {
   "cell_type": "code",
   "execution_count": 32,
   "metadata": {
    "colab": {
     "autoexec": {
      "startup": false,
      "wait_interval": 0
     }
    },
    "colab_type": "code",
    "id": "YavoOuzvEw9Q"
   },
   "outputs": [],
   "source": [
    "for layer in conv_model.layers:\n",
    "  layer.trainable = False"
   ]
  },
  {
   "cell_type": "code",
   "execution_count": 33,
   "metadata": {
    "colab": {
     "autoexec": {
      "startup": false,
      "wait_interval": 0
     }
    },
    "colab_type": "code",
    "id": "YmEGMlwZFI6R"
   },
   "outputs": [],
   "source": [
    "loss='categorical_crossentropy'\n",
    "metrics=['categorical_accuracy']\n"
   ]
  },
  {
   "cell_type": "code",
   "execution_count": 34,
   "metadata": {
    "colab": {
     "autoexec": {
      "startup": false,
      "wait_interval": 0
     },
     "base_uri": "https://localhost:8080/",
     "height": 34
    },
    "colab_type": "code",
    "executionInfo": {
     "elapsed": 396,
     "status": "ok",
     "timestamp": 1530166935326,
     "user": {
      "displayName": "gerard Kim",
      "photoUrl": "//lh5.googleusercontent.com/-iuADNaOLjbU/AAAAAAAAAAI/AAAAAAAAETg/RVRmC6A1XrE/s50-c-k-no/photo.jpg",
      "userId": "105066283437013869982"
     },
     "user_tz": 240
    },
    "id": "wxGkAs4Wj88a",
    "outputId": "bc3afd1a-a520-4ca8-804c-89f25be47c75"
   },
   "outputs": [
    {
     "data": {
      "text/plain": [
       "19"
      ]
     },
     "execution_count": 34,
     "metadata": {},
     "output_type": "execute_result"
    }
   ],
   "source": [
    "len(conv_model.layers)"
   ]
  },
  {
   "cell_type": "code",
   "execution_count": 35,
   "metadata": {
    "colab": {
     "autoexec": {
      "startup": false,
      "wait_interval": 0
     }
    },
    "colab_type": "code",
    "id": "OdAVej9TntUf"
   },
   "outputs": [],
   "source": [
    "for layer in conv_model.layers[:]:\n",
    " \n",
    "  layer.trainable=False"
   ]
  },
  {
   "cell_type": "code",
   "execution_count": 36,
   "metadata": {
    "colab": {
     "autoexec": {
      "startup": false,
      "wait_interval": 0
     },
     "base_uri": "https://localhost:8080/",
     "height": 340
    },
    "colab_type": "code",
    "executionInfo": {
     "elapsed": 230,
     "status": "ok",
     "timestamp": 1530166938309,
     "user": {
      "displayName": "gerard Kim",
      "photoUrl": "//lh5.googleusercontent.com/-iuADNaOLjbU/AAAAAAAAAAI/AAAAAAAAETg/RVRmC6A1XrE/s50-c-k-no/photo.jpg",
      "userId": "105066283437013869982"
     },
     "user_tz": 240
    },
    "id": "AvvgXrKPLb1j",
    "outputId": "d760c2be-ae40-4672-83d6-6cbc24192312"
   },
   "outputs": [
    {
     "name": "stdout",
     "output_type": "stream",
     "text": [
      "False: input_1\n",
      "False: block1_conv1\n",
      "False: block1_conv2\n",
      "False: block1_pool\n",
      "False: block2_conv1\n",
      "False: block2_conv2\n",
      "False: block2_pool\n",
      "False: block3_conv1\n",
      "False: block3_conv2\n",
      "False: block3_conv3\n",
      "False: block3_pool\n",
      "False: block4_conv1\n",
      "False: block4_conv2\n",
      "False: block4_conv3\n",
      "False: block4_pool\n",
      "False: block5_conv1\n",
      "False: block5_conv2\n",
      "False: block5_conv3\n",
      "False: block5_pool\n"
     ]
    }
   ],
   "source": [
    "print_layer_trainable()"
   ]
  },
  {
   "cell_type": "code",
   "execution_count": 37,
   "metadata": {
    "colab": {
     "autoexec": {
      "startup": false,
      "wait_interval": 0
     }
    },
    "colab_type": "code",
    "id": "VqyWxUcm3HKj"
   },
   "outputs": [],
   "source": [
    "optimizer_fine = Adam(lr=1e-5)\n",
    "new_model.compile(optimizer=optimizer_fine, loss=loss, metrics=metrics)"
   ]
  },
  {
   "cell_type": "code",
   "execution_count": 39,
   "metadata": {
    "colab": {
     "autoexec": {
      "startup": false,
      "wait_interval": 0
     }
    },
    "colab_type": "code",
    "id": "uCu2C_AckdKz"
   },
   "outputs": [],
   "source": [
    "earlystopping = EarlyStopping(monitor='val_loss', patience=10)"
   ]
  },
  {
   "cell_type": "code",
   "execution_count": null,
   "metadata": {
    "colab": {
     "autoexec": {
      "startup": false,
      "wait_interval": 0
     },
     "base_uri": "https://localhost:8080/",
     "height": 3328
    },
    "colab_type": "code",
    "executionInfo": {
     "elapsed": 12327,
     "status": "error",
     "timestamp": 1530166964942,
     "user": {
      "displayName": "gerard Kim",
      "photoUrl": "//lh5.googleusercontent.com/-iuADNaOLjbU/AAAAAAAAAAI/AAAAAAAAETg/RVRmC6A1XrE/s50-c-k-no/photo.jpg",
      "userId": "105066283437013869982"
     },
     "user_tz": 240
    },
    "id": "577RXDKPml7Q",
    "outputId": "923a6534-7009-4ac2-b912-7477a2b24ed1"
   },
   "outputs": [
    {
     "name": "stdout",
     "output_type": "stream",
     "text": [
      "Epoch 1/100\n",
      "225/225 [==============================] - 699s 3s/step - loss: 1.1317 - categorical_accuracy: 0.4331 - val_loss: 0.8899 - val_categorical_accuracy: 0.6176\n",
      "Epoch 2/100\n",
      "225/225 [==============================] - 583s 3s/step - loss: 0.8680 - categorical_accuracy: 0.5925 - val_loss: 0.7146 - val_categorical_accuracy: 0.7283\n",
      "Epoch 3/100\n",
      "225/225 [==============================] - 582s 3s/step - loss: 0.7457 - categorical_accuracy: 0.6803 - val_loss: 0.6198 - val_categorical_accuracy: 0.7869\n",
      "Epoch 4/100\n",
      "225/225 [==============================] - 582s 3s/step - loss: 0.6429 - categorical_accuracy: 0.7471 - val_loss: 0.5524 - val_categorical_accuracy: 0.8677\n",
      "Epoch 5/100\n",
      "225/225 [==============================] - 584s 3s/step - loss: 0.5758 - categorical_accuracy: 0.7829 - val_loss: 0.5615 - val_categorical_accuracy: 0.7499\n",
      "Epoch 6/100\n",
      "225/225 [==============================] - 584s 3s/step - loss: 0.5485 - categorical_accuracy: 0.7907 - val_loss: 0.4934 - val_categorical_accuracy: 0.8321\n",
      "Epoch 7/100\n",
      "225/225 [==============================] - 580s 3s/step - loss: 0.5033 - categorical_accuracy: 0.8041 - val_loss: 0.4311 - val_categorical_accuracy: 0.9084\n",
      "Epoch 8/100\n",
      "225/225 [==============================] - 525s 2s/step - loss: 0.4715 - categorical_accuracy: 0.8406 - val_loss: 0.4010 - val_categorical_accuracy: 0.9041\n",
      "Epoch 9/100\n",
      "225/225 [==============================] - 484s 2s/step - loss: 0.4142 - categorical_accuracy: 0.8584 - val_loss: 0.5748 - val_categorical_accuracy: 0.7147\n",
      "Epoch 10/100\n",
      "225/225 [==============================] - 484s 2s/step - loss: 0.4419 - categorical_accuracy: 0.8456 - val_loss: 0.3505 - val_categorical_accuracy: 0.9243\n",
      "Epoch 11/100\n",
      "225/225 [==============================] - 484s 2s/step - loss: 0.3985 - categorical_accuracy: 0.8688 - val_loss: 0.3657 - val_categorical_accuracy: 0.8796\n",
      "Epoch 12/100\n",
      "225/225 [==============================] - 484s 2s/step - loss: 0.3674 - categorical_accuracy: 0.8824 - val_loss: 0.3189 - val_categorical_accuracy: 0.9240\n",
      "Epoch 13/100\n",
      "225/225 [==============================] - 484s 2s/step - loss: 0.3425 - categorical_accuracy: 0.8982 - val_loss: 0.3122 - val_categorical_accuracy: 0.9179\n",
      "Epoch 14/100\n",
      "225/225 [==============================] - 484s 2s/step - loss: 0.3468 - categorical_accuracy: 0.8849 - val_loss: 0.3233 - val_categorical_accuracy: 0.9133\n",
      "Epoch 15/100\n",
      "225/225 [==============================] - 484s 2s/step - loss: 0.3253 - categorical_accuracy: 0.9013 - val_loss: 0.2684 - val_categorical_accuracy: 0.9413\n",
      "Epoch 16/100\n",
      "225/225 [==============================] - 484s 2s/step - loss: 0.3046 - categorical_accuracy: 0.9078 - val_loss: 0.2599 - val_categorical_accuracy: 0.9457\n",
      "Epoch 17/100\n",
      "225/225 [==============================] - 484s 2s/step - loss: 0.2915 - categorical_accuracy: 0.9125 - val_loss: 0.2550 - val_categorical_accuracy: 0.9409\n",
      "Epoch 18/100\n",
      "225/225 [==============================] - 482s 2s/step - loss: 0.2819 - categorical_accuracy: 0.9182 - val_loss: 0.2707 - val_categorical_accuracy: 0.9241\n",
      "Epoch 19/100\n",
      "225/225 [==============================] - 482s 2s/step - loss: 0.2732 - categorical_accuracy: 0.9183 - val_loss: 0.3142 - val_categorical_accuracy: 0.8768\n",
      "Epoch 20/100\n",
      "225/225 [==============================] - 483s 2s/step - loss: 0.2624 - categorical_accuracy: 0.9244 - val_loss: 0.2240 - val_categorical_accuracy: 0.9480\n",
      "Epoch 21/100\n",
      "225/225 [==============================] - 482s 2s/step - loss: 0.2504 - categorical_accuracy: 0.9288 - val_loss: 0.2296 - val_categorical_accuracy: 0.9456\n",
      "Epoch 22/100\n",
      "225/225 [==============================] - 482s 2s/step - loss: 0.2401 - categorical_accuracy: 0.9297 - val_loss: 0.2209 - val_categorical_accuracy: 0.9412\n",
      "Epoch 23/100\n",
      "225/225 [==============================] - 482s 2s/step - loss: 0.2287 - categorical_accuracy: 0.9357 - val_loss: 0.1959 - val_categorical_accuracy: 0.9583\n",
      "Epoch 24/100\n",
      "225/225 [==============================] - 482s 2s/step - loss: 0.2214 - categorical_accuracy: 0.9383 - val_loss: 0.2149 - val_categorical_accuracy: 0.9345\n",
      "Epoch 25/100\n",
      "225/225 [==============================] - 489s 2s/step - loss: 0.2213 - categorical_accuracy: 0.9370 - val_loss: 0.1848 - val_categorical_accuracy: 0.9573\n",
      "Epoch 26/100\n",
      "225/225 [==============================] - 545s 2s/step - loss: 0.2078 - categorical_accuracy: 0.9448 - val_loss: 0.1873 - val_categorical_accuracy: 0.9532\n",
      "Epoch 27/100\n",
      "225/225 [==============================] - 527s 2s/step - loss: 0.2045 - categorical_accuracy: 0.9438 - val_loss: 0.1727 - val_categorical_accuracy: 0.9591\n",
      "Epoch 28/100\n",
      "225/225 [==============================] - 511s 2s/step - loss: 0.2033 - categorical_accuracy: 0.9391 - val_loss: 0.1709 - val_categorical_accuracy: 0.9607\n",
      "Epoch 29/100\n",
      "225/225 [==============================] - 517s 2s/step - loss: 0.2111 - categorical_accuracy: 0.9285 - val_loss: 0.1987 - val_categorical_accuracy: 0.9364\n",
      "Epoch 30/100\n",
      "225/225 [==============================] - 518s 2s/step - loss: 0.1857 - categorical_accuracy: 0.9470 - val_loss: 0.1568 - val_categorical_accuracy: 0.9625\n",
      "Epoch 31/100\n",
      "225/225 [==============================] - 511s 2s/step - loss: 0.1752 - categorical_accuracy: 0.9503 - val_loss: 0.1769 - val_categorical_accuracy: 0.9520\n",
      "Epoch 32/100\n",
      "225/225 [==============================] - 538s 2s/step - loss: 0.1740 - categorical_accuracy: 0.9504 - val_loss: 0.1794 - val_categorical_accuracy: 0.9445\n",
      "Epoch 33/100\n",
      "225/225 [==============================] - 540s 2s/step - loss: 0.1701 - categorical_accuracy: 0.9531 - val_loss: 0.1520 - val_categorical_accuracy: 0.9627\n",
      "Epoch 34/100\n",
      "225/225 [==============================] - 521s 2s/step - loss: 0.1621 - categorical_accuracy: 0.9570 - val_loss: 0.1629 - val_categorical_accuracy: 0.9544\n",
      "Epoch 35/100\n",
      "225/225 [==============================] - 516s 2s/step - loss: 0.1621 - categorical_accuracy: 0.9536 - val_loss: 0.1517 - val_categorical_accuracy: 0.9599\n",
      "Epoch 36/100\n",
      "225/225 [==============================] - 484s 2s/step - loss: 0.1609 - categorical_accuracy: 0.9550 - val_loss: 0.1511 - val_categorical_accuracy: 0.9577\n",
      "Epoch 37/100\n",
      "225/225 [==============================] - 484s 2s/step - loss: 0.1537 - categorical_accuracy: 0.9574 - val_loss: 0.1333 - val_categorical_accuracy: 0.9668\n",
      "Epoch 38/100\n",
      "225/225 [==============================] - 484s 2s/step - loss: 0.1480 - categorical_accuracy: 0.9588 - val_loss: 0.1290 - val_categorical_accuracy: 0.9673\n",
      "Epoch 39/100\n",
      "225/225 [==============================] - 484s 2s/step - loss: 0.1439 - categorical_accuracy: 0.9612 - val_loss: 0.1308 - val_categorical_accuracy: 0.9689\n",
      "Epoch 40/100\n",
      "225/225 [==============================] - 483s 2s/step - loss: 0.1407 - categorical_accuracy: 0.9606 - val_loss: 0.1200 - val_categorical_accuracy: 0.9705\n",
      "Epoch 41/100\n",
      "225/225 [==============================] - 484s 2s/step - loss: 0.1329 - categorical_accuracy: 0.9641 - val_loss: 0.1471 - val_categorical_accuracy: 0.9557\n",
      "Epoch 42/100\n",
      "225/225 [==============================] - 485s 2s/step - loss: 0.1451 - categorical_accuracy: 0.9579 - val_loss: 0.1150 - val_categorical_accuracy: 0.9728\n",
      "Epoch 43/100\n",
      "225/225 [==============================] - 484s 2s/step - loss: 0.1307 - categorical_accuracy: 0.9644 - val_loss: 0.1165 - val_categorical_accuracy: 0.9724\n",
      "Epoch 44/100\n",
      "225/225 [==============================] - 484s 2s/step - loss: 0.1309 - categorical_accuracy: 0.9634 - val_loss: 0.1173 - val_categorical_accuracy: 0.9688\n",
      "Epoch 45/100\n",
      "225/225 [==============================] - 484s 2s/step - loss: 0.1269 - categorical_accuracy: 0.9633 - val_loss: 0.1149 - val_categorical_accuracy: 0.9724\n",
      "Epoch 46/100\n",
      "225/225 [==============================] - 484s 2s/step - loss: 0.1271 - categorical_accuracy: 0.9640 - val_loss: 0.1247 - val_categorical_accuracy: 0.9672\n",
      "Epoch 47/100\n",
      "225/225 [==============================] - 484s 2s/step - loss: 0.1220 - categorical_accuracy: 0.9685 - val_loss: 0.1013 - val_categorical_accuracy: 0.9747\n",
      "Epoch 48/100\n",
      "225/225 [==============================] - 484s 2s/step - loss: 0.1170 - categorical_accuracy: 0.9676 - val_loss: 0.1003 - val_categorical_accuracy: 0.9748\n",
      "Epoch 49/100\n"
     ]
    },
    {
     "name": "stdout",
     "output_type": "stream",
     "text": [
      "225/225 [==============================] - 484s 2s/step - loss: 0.1166 - categorical_accuracy: 0.9669 - val_loss: 0.1165 - val_categorical_accuracy: 0.9639\n",
      "Epoch 50/100\n",
      "224/225 [============================>.] - ETA: 0s - loss: 0.1105 - categorical_accuracy: 0.9706"
     ]
    }
   ],
   "source": [
    "history1 = new_model.fit_generator(generator=generator_train,\n",
    "                                  epochs=100,\n",
    "                                  steps_per_epoch=steps_per_epoch_train,\n",
    "                                  class_weight=class_weight,\n",
    "                                  validation_data=generator_test,\n",
    "                                  validation_steps=steps_per_epoch_val,\n",
    "                                  callbacks=[earlystopping])\n"
   ]
  },
  {
   "cell_type": "code",
   "execution_count": 0,
   "metadata": {
    "colab": {
     "autoexec": {
      "startup": false,
      "wait_interval": 0
     },
     "base_uri": "https://localhost:8080/",
     "height": 376
    },
    "colab_type": "code",
    "executionInfo": {
     "elapsed": 810,
     "status": "ok",
     "timestamp": 1528961153224,
     "user": {
      "displayName": "gerard Kim",
      "photoUrl": "//lh5.googleusercontent.com/-iuADNaOLjbU/AAAAAAAAAAI/AAAAAAAAETg/RVRmC6A1XrE/s50-c-k-no/photo.jpg",
      "userId": "105066283437013869982"
     },
     "user_tz": 240
    },
    "id": "OEwy5_kiMTtZ",
    "outputId": "c7fe3337-b5a3-493f-d35d-799e20f82236"
   },
   "outputs": [
    {
     "data": {
      "image/png": "[encoded data removed]",
      "text/plain": [
       "<Figure size 432x288 with 2 Axes>"
      ]
     },
     "metadata": {
      "tags": []
     },
     "output_type": "display_data"
    }
   ],
   "source": [
    "import matplotlib.pyplot as plt\n",
    "\n",
    "fig, loss_ax = plt.subplots()\n",
    "\n",
    "acc_ax = loss_ax.twinx()\n",
    "\n",
    "loss_ax.plot(history1.history['loss'], 'y', label='train loss')\n",
    "loss_ax.plot(history1.history['val_loss'], 'r', label='val loss')\n",
    "\n",
    "acc_ax.plot(history1.history['categorical_accuracy'], 'b', label='train acc')\n",
    "acc_ax.plot(history1.history['val_categorical_accuracy'], 'g', label='val acc')\n",
    "\n",
    "loss_ax.set_xlabel('epoch')\n",
    "loss_ax.set_ylabel('loss')\n",
    "acc_ax.set_ylabel('accuray')\n",
    "\n",
    "loss_ax.legend(loc='upper right')\n",
    "acc_ax.legend(loc='lower right')\n",
    "plt.title(\"Alzheimer's disease pridiction two layer finetuned\")\n",
    "\n",
    "plt.show()"
   ]
  },
  {
   "cell_type": "code",
   "execution_count": null,
   "metadata": {
    "colab": {
     "autoexec": {
      "startup": false,
      "wait_interval": 0
     }
    },
    "colab_type": "code",
    "id": "QJG27ehjMT8O"
   },
   "outputs": [],
   "source": [
    "model.save('../0629_vgg16_withaug.h5')"
   ]
  },
  {
   "cell_type": "code",
   "execution_count": 0,
   "metadata": {
    "colab": {
     "autoexec": {
      "startup": false,
      "wait_interval": 0
     }
    },
    "colab_type": "code",
    "id": "lZ4fTkvnNr4K"
   },
   "outputs": [],
   "source": [
    "class_name = generator_train.class_indices.keys()"
   ]
  },
  {
   "cell_type": "code",
   "execution_count": 0,
   "metadata": {
    "colab": {
     "autoexec": {
      "startup": false,
      "wait_interval": 0
     }
    },
    "colab_type": "code",
    "id": "flBxFe8V4NrE"
   },
   "outputs": [],
   "source": [
    "train_dir = '../train1'\n",
    "test_dir = '../valid1'\n"
   ]
  },
  {
   "cell_type": "code",
   "execution_count": 0,
   "metadata": {
    "colab": {
     "autoexec": {
      "startup": false,
      "wait_interval": 0
     }
    },
    "colab_type": "code",
    "id": "IMSG7f4AcyNQ"
   },
   "outputs": [],
   "source": [
    "def path_join(dirname, filenames):\n",
    "    return [os.path.join(dirname, filename) for filename in filenames]"
   ]
  },
  {
   "cell_type": "code",
   "execution_count": 0,
   "metadata": {
    "colab": {
     "autoexec": {
      "startup": false,
      "wait_interval": 0
     },
     "base_uri": "https://localhost:8080/",
     "height": 34
    },
    "colab_type": "code",
    "executionInfo": {
     "elapsed": 356,
     "status": "ok",
     "timestamp": 1528961312392,
     "user": {
      "displayName": "gerard Kim",
      "photoUrl": "//lh5.googleusercontent.com/-iuADNaOLjbU/AAAAAAAAAAI/AAAAAAAAETg/RVRmC6A1XrE/s50-c-k-no/photo.jpg",
      "userId": "105066283437013869982"
     },
     "user_tz": 240
    },
    "id": "1GRCTTCFXZMn",
    "outputId": "e5ebf352-133f-4ad3-d5a3-ec99a07567ef"
   },
   "outputs": [
    {
     "data": {
      "text/plain": [
       "152"
      ]
     },
     "execution_count": 99,
     "metadata": {
      "tags": []
     },
     "output_type": "execute_result"
    }
   ],
   "source": [
    "len(generator_train.filenames)\n",
    "len(generator_test.filenames)"
   ]
  },
  {
   "cell_type": "code",
   "execution_count": 0,
   "metadata": {
    "colab": {
     "autoexec": {
      "startup": false,
      "wait_interval": 0
     }
    },
    "colab_type": "code",
    "id": "SWceygf94uNc"
   },
   "outputs": [],
   "source": [
    "\n",
    "image_paths_train = path_join(train_dir, generator_train.filenames)\n",
    "image_paths_test = path_join(test_dir, generator_test.filenames)"
   ]
  },
  {
   "cell_type": "code",
   "execution_count": 0,
   "metadata": {
    "colab": {
     "autoexec": {
      "startup": false,
      "wait_interval": 0
     }
    },
    "colab_type": "code",
    "id": "CpOYJ2mm401U"
   },
   "outputs": [],
   "source": [
    "\n",
    "cls_train = generator_train.classes\n",
    "cls_test = generator_test.classes"
   ]
  },
  {
   "cell_type": "code",
   "execution_count": 0,
   "metadata": {
    "colab": {
     "autoexec": {
      "startup": false,
      "wait_interval": 0
     },
     "base_uri": "https://localhost:8080/",
     "height": 34
    },
    "colab_type": "code",
    "executionInfo": {
     "elapsed": 354,
     "status": "ok",
     "timestamp": 1528961314700,
     "user": {
      "displayName": "gerard Kim",
      "photoUrl": "//lh5.googleusercontent.com/-iuADNaOLjbU/AAAAAAAAAAI/AAAAAAAAETg/RVRmC6A1XrE/s50-c-k-no/photo.jpg",
      "userId": "105066283437013869982"
     },
     "user_tz": 240
    },
    "id": "SZbs1xoe-2oN",
    "outputId": "c66d28c2-a0e2-4c76-eab9-53cc3329d4ae"
   },
   "outputs": [
    {
     "data": {
      "text/plain": [
       "['1gr', '3gr', '2gr']"
      ]
     },
     "execution_count": 102,
     "metadata": {
      "tags": []
     },
     "output_type": "execute_result"
    }
   ],
   "source": [
    "class_names = list(generator_train.class_indices.keys())\n",
    "class_names"
   ]
  },
  {
   "cell_type": "code",
   "execution_count": 0,
   "metadata": {
    "colab": {
     "autoexec": {
      "startup": false,
      "wait_interval": 0
     }
    },
    "colab_type": "code",
    "id": "Oz_gYKBgMSyp"
   },
   "outputs": [],
   "source": [
    "def plot_images(images, cls_true, cls_pred=None, smooth=True):\n",
    "\n",
    "    assert len(images) == len(cls_true)\n",
    "\n",
    "    # Create figure with sub-plots.\n",
    "    fig, axes = plt.subplots(3, 3)\n",
    "\n",
    "    # Adjust vertical spacing.\n",
    "    if cls_pred is None:\n",
    "        hspace = 0.3\n",
    "    else:\n",
    "        hspace = 0.6\n",
    "    fig.subplots_adjust(hspace=hspace, wspace=0.3)\n",
    "\n",
    "    # Interpolation type.\n",
    "    if smooth:\n",
    "        interpolation = 'spline16'\n",
    "    else:\n",
    "        interpolation = 'nearest'\n",
    "\n",
    "    for i, ax in enumerate(axes.flat):\n",
    "        # There may be less than 9 images, ensure it doesn't crash.\n",
    "        if i < len(images):\n",
    "            # Plot image.\n",
    "            ax.imshow(images[i],\n",
    "                      interpolation=interpolation)\n",
    "\n",
    "            # Name of the true class.\n",
    "            cls_true_name = class_names[cls_true[i]]\n",
    "\n",
    "            # Show true and predicted classes.\n",
    "            if cls_pred is None:\n",
    "                xlabel = \"True: {0}\".format(cls_true_name)\n",
    "            else:\n",
    "                # Name of the predicted class.\n",
    "                cls_pred_name = class_names[cls_pred[i]]\n",
    "\n",
    "                xlabel = \"True: {0}\\nPred: {1}\".format(cls_true_name, cls_pred_name)\n",
    "\n",
    "            # Show the classes as the label on the x-axis.\n",
    "            ax.set_xlabel(xlabel)\n",
    "        \n",
    "        # Remove ticks from the plot.\n",
    "        ax.set_xticks([])\n",
    "        ax.set_yticks([])\n",
    "    \n",
    "    # Ensure the plot is shown correctly with multiple plots\n",
    "    # in a single Notebook cell.\n",
    "    plt.show()"
   ]
  },
  {
   "cell_type": "code",
   "execution_count": 0,
   "metadata": {
    "colab": {
     "autoexec": {
      "startup": false,
      "wait_interval": 0
     }
    },
    "colab_type": "code",
    "id": "FO0gikCd3kKz"
   },
   "outputs": [],
   "source": [
    "# Import a function from sklearn to calculate the confusion-matrix.\n",
    "from sklearn.metrics import confusion_matrix\n",
    "\n",
    "def print_confusion_matrix(cls_pred):\n",
    "    # cls_pred is an array of the predicted class-number for\n",
    "    # all images in the test-set.\n",
    "\n",
    "    # Get the confusion matrix using sklearn.\n",
    "    cm = confusion_matrix(y_true=cls_test,  # True class for test-set.\n",
    "                          y_pred=cls_pred)  # Predicted class.\n",
    "    re = classification_report(y_true=cls_test,\n",
    "                               y_pred=cls_pred)\n",
    "    print(\"Confusion matrix:\")\n",
    "    \n",
    "    # Print the confusion matrix as text.\n",
    "    print(cm)\n",
    "    print(re)\n",
    "    \n",
    "    # Print the class-names for easy reference.\n",
    "    for i, class_name in enumerate(class_names):\n",
    "        print(\"({0}) {1}\".format(i, class_name))"
   ]
  },
  {
   "cell_type": "code",
   "execution_count": 0,
   "metadata": {
    "colab": {
     "autoexec": {
      "startup": false,
      "wait_interval": 0
     }
    },
    "colab_type": "code",
    "id": "Ujuk1yHm3l3L"
   },
   "outputs": [],
   "source": [
    "def plot_example_errors(cls_pred):\n",
    "    # cls_pred is an array of the predicted class-number for\n",
    "    # all images in the test-set.\n",
    "\n",
    "    # Boolean array whether the predicted class is incorrect.\n",
    "    incorrect = (cls_pred != cls_test)\n",
    "\n",
    "    # Get the file-paths for images that were incorrectly classified.\n",
    "    image_paths = np.array(image_paths_test)[incorrect]\n",
    "\n",
    "    # Load the first 9 images.\n",
    "    images = load_images(image_paths=image_paths[0:9])\n",
    "    \n",
    "    # Get the predicted classes for those images.\n",
    "    cls_pred = cls_pred[incorrect]\n",
    "\n",
    "    # Get the true classes for those images.\n",
    "    cls_true = cls_test[incorrect]\n",
    "    \n",
    "    # Plot the 9 images we have loaded and their corresponding classes.\n",
    "    # We have only loaded 9 images so there is no need to slice those again.\n",
    "    plot_images(images=images,\n",
    "                cls_true=cls_true[0:9],\n",
    "                cls_pred=cls_pred[0:9])"
   ]
  },
  {
   "cell_type": "code",
   "execution_count": 0,
   "metadata": {
    "colab": {
     "autoexec": {
      "startup": false,
      "wait_interval": 0
     }
    },
    "colab_type": "code",
    "id": "SUa2HGbk3ngk"
   },
   "outputs": [],
   "source": [
    "def example_errors():\n",
    "    # The Keras data-generator for the test-set must be reset\n",
    "    # before processing. This is because the generator will loop\n",
    "    # infinitely and keep an internal index into the dataset.\n",
    "    # So it might start in the middle of the test-set if we do\n",
    "    # not reset it first. This makes it impossible to match the\n",
    "    # predicted classes with the input images.\n",
    "    # If we reset the generator, then it always starts at the\n",
    "    # beginning so we know exactly which input-images were used.\n",
    "    generator_test.reset()\n",
    "    \n",
    "    # Predict the classes for all images in the test-set.\n",
    "    y_pred = new_model.predict_generator(generator_test,\n",
    "                                         steps=steps_test)\n",
    "\n",
    "    # Convert the predicted classes from arrays to integers.\n",
    "    cls_pred = np.argmax(y_pred,axis=1)\n",
    "\n",
    "    # Plot examples of mis-classified images.\n",
    "    plot_example_errors(cls_pred)\n",
    "    \n",
    "    # Print the confusion matrix.\n",
    "    print_confusion_matrix(cls_pred)"
   ]
  },
  {
   "cell_type": "code",
   "execution_count": 0,
   "metadata": {
    "colab": {
     "autoexec": {
      "startup": false,
      "wait_interval": 0
     }
    },
    "colab_type": "code",
    "id": "fq1cOKfC3pWB"
   },
   "outputs": [],
   "source": [
    "def load_images(image_paths):\n",
    "    # Load the images from disk.\n",
    "    images = [plt.imread(path) for path in image_paths]\n",
    "\n",
    "    # Convert to a numpy array and return it.\n",
    "    return np.asarray(images)"
   ]
  },
  {
   "cell_type": "code",
   "execution_count": 0,
   "metadata": {
    "colab": {
     "autoexec": {
      "startup": false,
      "wait_interval": 0
     },
     "base_uri": "https://localhost:8080/",
     "height": 474
    },
    "colab_type": "code",
    "executionInfo": {
     "elapsed": 3941,
     "status": "ok",
     "timestamp": 1528961329371,
     "user": {
      "displayName": "gerard Kim",
      "photoUrl": "//lh5.googleusercontent.com/-iuADNaOLjbU/AAAAAAAAAAI/AAAAAAAAETg/RVRmC6A1XrE/s50-c-k-no/photo.jpg",
      "userId": "105066283437013869982"
     },
     "user_tz": 240
    },
    "id": "RyowS58R3rrf",
    "outputId": "d4f57e0e-b10a-44ac-a406-1a253108d0dd"
   },
   "outputs": [
    {
     "data": {
      "image/png": "[encoded data removed]",
      "text/plain": [
       "<Figure size 432x288 with 9 Axes>"
      ]
     },
     "metadata": {
      "tags": []
     },
     "output_type": "display_data"
    },
    {
     "name": "stdout",
     "output_type": "stream",
     "text": [
      "Confusion matrix:\n",
      "[[67  6  0]\n",
      " [10  5  5]\n",
      " [ 0  3 56]]\n",
      "             precision    recall  f1-score   support\n",
      "\n",
      "          0       0.87      0.92      0.89        73\n",
      "          1       0.36      0.25      0.29        20\n",
      "          2       0.92      0.95      0.93        59\n",
      "\n",
      "avg / total       0.82      0.84      0.83       152\n",
      "\n",
      "(0) 1gr\n",
      "(1) 3gr\n",
      "(2) 2gr\n"
     ]
    }
   ],
   "source": [
    "example_errors()"
   ]
  },
  {
   "cell_type": "code",
   "execution_count": 0,
   "metadata": {
    "colab": {
     "autoexec": {
      "startup": false,
      "wait_interval": 0
     }
    },
    "colab_type": "code",
    "id": "A5okKOTiU9Rd"
   },
   "outputs": [],
   "source": []
  },
  {
   "cell_type": "code",
   "execution_count": 0,
   "metadata": {
    "colab": {
     "autoexec": {
      "startup": false,
      "wait_interval": 0
     }
    },
    "colab_type": "code",
    "id": "C2n6SbatG5Cn"
   },
   "outputs": [],
   "source": []
  }
 ],
 "metadata": {
  "accelerator": "GPU",
  "colab": {
   "default_view": {},
   "name": "(1%2F4연습)VGG16_f627_1_0layer_Resnet50_origin.ipynb",
   "provenance": [],
   "version": "0.3.2",
   "views": {}
  },
  "kernelspec": {
   "display_name": "Python 3",
   "language": "python",
   "name": "python3"
  },
  "language_info": {
   "codemirror_mode": {
    "name": "ipython",
    "version": 3
   },
   "file_extension": ".py",
   "mimetype": "text/x-python",
   "name": "python",
   "nbconvert_exporter": "python",
   "pygments_lexer": "ipython3",
   "version": "3.5.4"
  }
 },
 "nbformat": 4,
 "nbformat_minor": 1
}
